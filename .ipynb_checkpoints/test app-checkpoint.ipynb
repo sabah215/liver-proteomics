{
 "cells": [
  {
   "cell_type": "code",
   "execution_count": 2,
   "id": "c21e5af0",
   "metadata": {},
   "outputs": [
    {
     "name": "stdout",
     "output_type": "stream",
     "text": [
      "Requirement already satisfied: pandas in /Library/Frameworks/Python.framework/Versions/3.9/lib/python3.9/site-packages (1.2.3)\n",
      "Requirement already satisfied: pytz>=2017.3 in /Library/Frameworks/Python.framework/Versions/3.9/lib/python3.9/site-packages (from pandas) (2021.1)\n",
      "Requirement already satisfied: numpy>=1.16.5 in /Library/Frameworks/Python.framework/Versions/3.9/lib/python3.9/site-packages (from pandas) (1.20.2)\n",
      "Requirement already satisfied: python-dateutil>=2.7.3 in /Library/Frameworks/Python.framework/Versions/3.9/lib/python3.9/site-packages (from pandas) (2.8.1)\n",
      "Requirement already satisfied: six>=1.5 in /Library/Frameworks/Python.framework/Versions/3.9/lib/python3.9/site-packages (from python-dateutil>=2.7.3->pandas) (1.15.0)\n",
      "\u001b[33mWARNING: You are using pip version 21.0.1; however, version 21.1 is available.\n",
      "You should consider upgrading via the '/Library/Frameworks/Python.framework/Versions/3.9/bin/python3.9 -m pip install --upgrade pip' command.\u001b[0m\n",
      "Requirement already satisfied: plotly in /Library/Frameworks/Python.framework/Versions/3.9/lib/python3.9/site-packages (4.14.3)\n",
      "Requirement already satisfied: retrying>=1.3.3 in /Library/Frameworks/Python.framework/Versions/3.9/lib/python3.9/site-packages (from plotly) (1.3.3)\n",
      "Requirement already satisfied: six in /Library/Frameworks/Python.framework/Versions/3.9/lib/python3.9/site-packages (from plotly) (1.15.0)\n",
      "\u001b[33mWARNING: You are using pip version 21.0.1; however, version 21.1 is available.\n",
      "You should consider upgrading via the '/Library/Frameworks/Python.framework/Versions/3.9/bin/python3.9 -m pip install --upgrade pip' command.\u001b[0m\n",
      "Requirement already satisfied: dash in /Library/Frameworks/Python.framework/Versions/3.9/lib/python3.9/site-packages (1.20.0)\n",
      "Requirement already satisfied: Flask>=1.0.4 in /Library/Frameworks/Python.framework/Versions/3.9/lib/python3.9/site-packages (from dash) (1.1.2)\n",
      "Requirement already satisfied: flask-compress in /Library/Frameworks/Python.framework/Versions/3.9/lib/python3.9/site-packages (from dash) (1.9.0)\n",
      "Requirement already satisfied: plotly in /Library/Frameworks/Python.framework/Versions/3.9/lib/python3.9/site-packages (from dash) (4.14.3)\n",
      "Requirement already satisfied: dash_renderer==1.9.1 in /Library/Frameworks/Python.framework/Versions/3.9/lib/python3.9/site-packages (from dash) (1.9.1)\n",
      "Requirement already satisfied: dash-core-components==1.16.0 in /Library/Frameworks/Python.framework/Versions/3.9/lib/python3.9/site-packages (from dash) (1.16.0)\n",
      "Requirement already satisfied: dash-html-components==1.1.3 in /Library/Frameworks/Python.framework/Versions/3.9/lib/python3.9/site-packages (from dash) (1.1.3)\n",
      "Requirement already satisfied: dash-table==4.11.3 in /Library/Frameworks/Python.framework/Versions/3.9/lib/python3.9/site-packages (from dash) (4.11.3)\n",
      "Requirement already satisfied: future in /Library/Frameworks/Python.framework/Versions/3.9/lib/python3.9/site-packages (from dash) (0.18.2)\n",
      "Requirement already satisfied: itsdangerous>=0.24 in /Library/Frameworks/Python.framework/Versions/3.9/lib/python3.9/site-packages (from Flask>=1.0.4->dash) (1.1.0)\n",
      "Requirement already satisfied: click>=5.1 in /Library/Frameworks/Python.framework/Versions/3.9/lib/python3.9/site-packages (from Flask>=1.0.4->dash) (7.1.2)\n",
      "Requirement already satisfied: Jinja2>=2.10.1 in /Library/Frameworks/Python.framework/Versions/3.9/lib/python3.9/site-packages (from Flask>=1.0.4->dash) (2.11.3)\n",
      "Requirement already satisfied: Werkzeug>=0.15 in /Library/Frameworks/Python.framework/Versions/3.9/lib/python3.9/site-packages (from Flask>=1.0.4->dash) (1.0.1)\n",
      "Requirement already satisfied: MarkupSafe>=0.23 in /Library/Frameworks/Python.framework/Versions/3.9/lib/python3.9/site-packages (from Jinja2>=2.10.1->Flask>=1.0.4->dash) (1.1.1)\n",
      "Requirement already satisfied: brotli in /Library/Frameworks/Python.framework/Versions/3.9/lib/python3.9/site-packages (from flask-compress->dash) (1.0.9)\n",
      "Requirement already satisfied: retrying>=1.3.3 in /Library/Frameworks/Python.framework/Versions/3.9/lib/python3.9/site-packages (from plotly->dash) (1.3.3)\n",
      "Requirement already satisfied: six in /Library/Frameworks/Python.framework/Versions/3.9/lib/python3.9/site-packages (from plotly->dash) (1.15.0)\n",
      "\u001b[33mWARNING: You are using pip version 21.0.1; however, version 21.1 is available.\n",
      "You should consider upgrading via the '/Library/Frameworks/Python.framework/Versions/3.9/bin/python3.9 -m pip install --upgrade pip' command.\u001b[0m\n",
      "Requirement already satisfied: dash_bootstrap_components in /Library/Frameworks/Python.framework/Versions/3.9/lib/python3.9/site-packages (0.12.0)\n",
      "Requirement already satisfied: dash>=1.9.0 in /Library/Frameworks/Python.framework/Versions/3.9/lib/python3.9/site-packages (from dash_bootstrap_components) (1.20.0)\n",
      "Requirement already satisfied: Flask>=1.0.4 in /Library/Frameworks/Python.framework/Versions/3.9/lib/python3.9/site-packages (from dash>=1.9.0->dash_bootstrap_components) (1.1.2)\n",
      "Requirement already satisfied: flask-compress in /Library/Frameworks/Python.framework/Versions/3.9/lib/python3.9/site-packages (from dash>=1.9.0->dash_bootstrap_components) (1.9.0)\n",
      "Requirement already satisfied: plotly in /Library/Frameworks/Python.framework/Versions/3.9/lib/python3.9/site-packages (from dash>=1.9.0->dash_bootstrap_components) (4.14.3)\n",
      "Requirement already satisfied: dash_renderer==1.9.1 in /Library/Frameworks/Python.framework/Versions/3.9/lib/python3.9/site-packages (from dash>=1.9.0->dash_bootstrap_components) (1.9.1)\n",
      "Requirement already satisfied: dash-core-components==1.16.0 in /Library/Frameworks/Python.framework/Versions/3.9/lib/python3.9/site-packages (from dash>=1.9.0->dash_bootstrap_components) (1.16.0)\n",
      "Requirement already satisfied: dash-html-components==1.1.3 in /Library/Frameworks/Python.framework/Versions/3.9/lib/python3.9/site-packages (from dash>=1.9.0->dash_bootstrap_components) (1.1.3)\n",
      "Requirement already satisfied: dash-table==4.11.3 in /Library/Frameworks/Python.framework/Versions/3.9/lib/python3.9/site-packages (from dash>=1.9.0->dash_bootstrap_components) (4.11.3)\n",
      "Requirement already satisfied: future in /Library/Frameworks/Python.framework/Versions/3.9/lib/python3.9/site-packages (from dash>=1.9.0->dash_bootstrap_components) (0.18.2)\n",
      "Requirement already satisfied: itsdangerous>=0.24 in /Library/Frameworks/Python.framework/Versions/3.9/lib/python3.9/site-packages (from Flask>=1.0.4->dash>=1.9.0->dash_bootstrap_components) (1.1.0)\n",
      "Requirement already satisfied: click>=5.1 in /Library/Frameworks/Python.framework/Versions/3.9/lib/python3.9/site-packages (from Flask>=1.0.4->dash>=1.9.0->dash_bootstrap_components) (7.1.2)\n",
      "Requirement already satisfied: Werkzeug>=0.15 in /Library/Frameworks/Python.framework/Versions/3.9/lib/python3.9/site-packages (from Flask>=1.0.4->dash>=1.9.0->dash_bootstrap_components) (1.0.1)\n",
      "Requirement already satisfied: Jinja2>=2.10.1 in /Library/Frameworks/Python.framework/Versions/3.9/lib/python3.9/site-packages (from Flask>=1.0.4->dash>=1.9.0->dash_bootstrap_components) (2.11.3)\n",
      "Requirement already satisfied: MarkupSafe>=0.23 in /Library/Frameworks/Python.framework/Versions/3.9/lib/python3.9/site-packages (from Jinja2>=2.10.1->Flask>=1.0.4->dash>=1.9.0->dash_bootstrap_components) (1.1.1)\n",
      "Requirement already satisfied: brotli in /Library/Frameworks/Python.framework/Versions/3.9/lib/python3.9/site-packages (from flask-compress->dash>=1.9.0->dash_bootstrap_components) (1.0.9)\n",
      "Requirement already satisfied: six in /Library/Frameworks/Python.framework/Versions/3.9/lib/python3.9/site-packages (from plotly->dash>=1.9.0->dash_bootstrap_components) (1.15.0)\n",
      "Requirement already satisfied: retrying>=1.3.3 in /Library/Frameworks/Python.framework/Versions/3.9/lib/python3.9/site-packages (from plotly->dash>=1.9.0->dash_bootstrap_components) (1.3.3)\n",
      "\u001b[33mWARNING: You are using pip version 21.0.1; however, version 21.1 is available.\n",
      "You should consider upgrading via the '/Library/Frameworks/Python.framework/Versions/3.9/bin/python3.9 -m pip install --upgrade pip' command.\u001b[0m\n"
     ]
    }
   ],
   "source": [
    "!pip install pandas\n",
    "!pip install plotly\n",
    "!pip install dash\n",
    "!pip install dash_bootstrap_components"
   ]
  },
  {
   "cell_type": "code",
   "execution_count": 3,
   "id": "62e9528a",
   "metadata": {},
   "outputs": [],
   "source": [
    "import pandas as pd\n",
    "pd.set_option('max_rows',20)\n",
    "import plotly.express as px\n",
    "import plotly.io as pio\n",
    "pio.renderers.default = \"browser\""
   ]
  },
  {
   "cell_type": "code",
   "execution_count": 4,
   "id": "019f52ad",
   "metadata": {},
   "outputs": [],
   "source": [
    "import dash\n",
    "from dash.dependencies import Input, Output\n",
    "import dash_core_components as dcc\n",
    "import dash_html_components as html\n",
    "import dash_bootstrap_components as dbc"
   ]
  },
  {
   "cell_type": "code",
   "execution_count": 5,
   "id": "7d18d0f9",
   "metadata": {},
   "outputs": [],
   "source": [
    "CONF_URL = 'http://raw.githubusercontent.com/CSSEGISandData/COVID-19/master/csse_covid_19_data/csse_covid_19_time_series/time_series_covid19_confirmed_global.csv'\n",
    "DEAD_URL = 'https://raw.githubusercontent.com/CSSEGISandData/COVID-19/master/csse_covid_19_data/csse_covid_19_time_series/time_series_covid19_deaths_global.csv'\n",
    "RECV_URL = 'https://raw.githubusercontent.com/CSSEGISandData/COVID-19/master/csse_covid_19_data/csse_covid_19_time_series/time_series_covid19_recovered_global.csv'\n",
    "# df_norm_nafld = pd.read_csv('~/Desktop/Liver_Homegenate_per_mg_protein_Log2FC_Normal_NAFLD.csv')"
   ]
  },
  {
   "cell_type": "code",
   "execution_count": 6,
   "id": "3d839372",
   "metadata": {},
   "outputs": [
    {
     "name": "stdout",
     "output_type": "stream",
     "text": [
      "Requirement already satisfied: certifi in /Library/Frameworks/Python.framework/Versions/3.9/lib/python3.9/site-packages (2020.12.5)\n",
      "\u001b[33mWARNING: You are using pip version 21.0.1; however, version 21.1 is available.\n",
      "You should consider upgrading via the '/Library/Frameworks/Python.framework/Versions/3.9/bin/python3.9 -m pip install --upgrade pip' command.\u001b[0m\n",
      "Note: you may need to restart the kernel to use updated packages.\n"
     ]
    }
   ],
   "source": [
    "pip install certifi"
   ]
  },
  {
   "cell_type": "code",
   "execution_count": 20,
   "id": "c1ad6a84",
   "metadata": {},
   "outputs": [],
   "source": [
    "# covid_conf_ts = pd.read_csv(CONF_URL)\n",
    "# covid_dead_ts = pd.read_csv(DEAD_URL)\n",
    "# covid_recv_ts = pd.read_csv(RECV_URL)"
   ]
  },
  {
   "cell_type": "code",
   "execution_count": 7,
   "id": "cdda9183",
   "metadata": {},
   "outputs": [
    {
     "data": {
      "text/html": [
       "<div>\n",
       "<style scoped>\n",
       "    .dataframe tbody tr th:only-of-type {\n",
       "        vertical-align: middle;\n",
       "    }\n",
       "\n",
       "    .dataframe tbody tr th {\n",
       "        vertical-align: top;\n",
       "    }\n",
       "\n",
       "    .dataframe thead th {\n",
       "        text-align: right;\n",
       "    }\n",
       "</style>\n",
       "<table border=\"1\" class=\"dataframe\">\n",
       "  <thead>\n",
       "    <tr style=\"text-align: right;\">\n",
       "      <th></th>\n",
       "      <th>gene_symbol</th>\n",
       "      <th>log2FoldChange</th>\n",
       "      <th>pvalue</th>\n",
       "    </tr>\n",
       "  </thead>\n",
       "  <tbody>\n",
       "    <tr>\n",
       "      <th>0</th>\n",
       "      <td>IGLV7-46</td>\n",
       "      <td>NaN</td>\n",
       "      <td>NaN</td>\n",
       "    </tr>\n",
       "    <tr>\n",
       "      <th>1</th>\n",
       "      <td>IGLV3-10</td>\n",
       "      <td>NaN</td>\n",
       "      <td>NaN</td>\n",
       "    </tr>\n",
       "    <tr>\n",
       "      <th>2</th>\n",
       "      <td>IGLV3-9</td>\n",
       "      <td>NaN</td>\n",
       "      <td>NaN</td>\n",
       "    </tr>\n",
       "    <tr>\n",
       "      <th>3</th>\n",
       "      <td>IGKV2-28</td>\n",
       "      <td>0.048969</td>\n",
       "      <td>0.857573</td>\n",
       "    </tr>\n",
       "    <tr>\n",
       "      <th>4</th>\n",
       "      <td>IGKV1-27</td>\n",
       "      <td>-1.130340</td>\n",
       "      <td>NaN</td>\n",
       "    </tr>\n",
       "    <tr>\n",
       "      <th>...</th>\n",
       "      <td>...</td>\n",
       "      <td>...</td>\n",
       "      <td>...</td>\n",
       "    </tr>\n",
       "    <tr>\n",
       "      <th>3846</th>\n",
       "      <td>SQOR</td>\n",
       "      <td>0.143932</td>\n",
       "      <td>0.224777</td>\n",
       "    </tr>\n",
       "    <tr>\n",
       "      <th>3847</th>\n",
       "      <td>PCLO</td>\n",
       "      <td>0.159105</td>\n",
       "      <td>0.060381</td>\n",
       "    </tr>\n",
       "    <tr>\n",
       "      <th>3848</th>\n",
       "      <td>WASF2</td>\n",
       "      <td>-0.042245</td>\n",
       "      <td>0.648799</td>\n",
       "    </tr>\n",
       "    <tr>\n",
       "      <th>3849</th>\n",
       "      <td>ENPP4</td>\n",
       "      <td>0.181110</td>\n",
       "      <td>0.103275</td>\n",
       "    </tr>\n",
       "    <tr>\n",
       "      <th>3850</th>\n",
       "      <td>SEC23IP</td>\n",
       "      <td>0.072706</td>\n",
       "      <td>0.355516</td>\n",
       "    </tr>\n",
       "  </tbody>\n",
       "</table>\n",
       "<p>3851 rows × 3 columns</p>\n",
       "</div>"
      ],
      "text/plain": [
       "     gene_symbol  log2FoldChange    pvalue\n",
       "0       IGLV7-46             NaN       NaN\n",
       "1       IGLV3-10             NaN       NaN\n",
       "2        IGLV3-9             NaN       NaN\n",
       "3       IGKV2-28        0.048969  0.857573\n",
       "4       IGKV1-27       -1.130340       NaN\n",
       "...          ...             ...       ...\n",
       "3846        SQOR        0.143932  0.224777\n",
       "3847        PCLO        0.159105  0.060381\n",
       "3848       WASF2       -0.042245  0.648799\n",
       "3849       ENPP4        0.181110  0.103275\n",
       "3850     SEC23IP        0.072706  0.355516\n",
       "\n",
       "[3851 rows x 3 columns]"
      ]
     },
     "execution_count": 7,
     "metadata": {},
     "output_type": "execute_result"
    }
   ],
   "source": [
    "df_norm_nafld"
   ]
  },
  {
   "cell_type": "code",
   "execution_count": 21,
   "id": "91bfa169",
   "metadata": {},
   "outputs": [],
   "source": [
    "#get data in cleaned time series format for country\n",
    "def process_data(data,cntry='US',window=3):\n",
    "    conf_ts = data\n",
    "    conf_ts_cntry = conf_ts[conf_ts['Country/Region']==cntry]\n",
    "    final_dataset = conf_ts_cntry.T[4:].sum(axis='columns').diff().rolling(window=window).mean()[40:]\n",
    "    df = pd.DataFrame(final_dataset,columns=['Total'])\n",
    "    return df"
   ]
  },
  {
   "cell_type": "code",
   "execution_count": 22,
   "id": "39503af0",
   "metadata": {},
   "outputs": [
    {
     "name": "stdout",
     "output_type": "stream",
     "text": [
      "Overall Confirmed: 152196159\n",
      "Overall Dead: 3192583\n",
      "Overall Recovered: 88919401\n"
     ]
    }
   ],
   "source": [
    "#get overall wordlwide total for confirmed, recovered and dead cases\n",
    "def get_overall_total(df):\n",
    "    return df.iloc[:,-1].sum()\n",
    "\n",
    "conf_overall_total = get_overall_total(covid_conf_ts)\n",
    "dead_overall_total = get_overall_total(covid_dead_ts)\n",
    "recv_overall_total = get_overall_total(covid_recv_ts)\n",
    "print('Overall Confirmed:',conf_overall_total)\n",
    "print('Overall Dead:',dead_overall_total)\n",
    "print('Overall Recovered:',recv_overall_total)"
   ]
  },
  {
   "cell_type": "code",
   "execution_count": 23,
   "id": "23c9cbfd",
   "metadata": {},
   "outputs": [
    {
     "name": "stdout",
     "output_type": "stream",
     "text": [
      "US Confirmed: 32392274\n",
      "US Dead: 576722\n",
      "US Recovered: 0\n"
     ]
    }
   ],
   "source": [
    "#get total for confirmed, recovered and dead for country \n",
    "def get_cntry_total(df,cntry='US'):\n",
    "    return df[df['Country/Region']==cntry].iloc[:,-1].sum()\n",
    "\n",
    "cntry = 'US'\n",
    "conf_cntry_total = get_cntry_total(covid_conf_ts,cntry)\n",
    "dead_cntry_total = get_cntry_total(covid_dead_ts,cntry)\n",
    "recv_cntry_total = get_cntry_total(covid_recv_ts,cntry)\n",
    "print(f'{cntry} Confirmed:',conf_cntry_total)\n",
    "print(f'{cntry} Dead:',dead_cntry_total)\n",
    "print(f'{cntry} Recovered:',recv_cntry_total)"
   ]
  },
  {
   "cell_type": "code",
   "execution_count": 24,
   "id": "7d7ccd14",
   "metadata": {},
   "outputs": [],
   "source": [
    "def fig_world_trend(cntry='US',window=3):\n",
    "    df = process_data(data=covid_conf_ts,cntry=cntry,window=window)\n",
    "    df.head(10)\n",
    "    if window==1:\n",
    "        yaxis_title = \"Daily Cases\"\n",
    "    else:\n",
    "        yaxis_title = \"Daily Cases ({}-day MA)\".format(window)\n",
    "    fig = px.line(df, y='Total', x=df.index, title='Daily confirmed cases trend for {}'.format(cntry),height=600,color_discrete_sequence =['maroon'])\n",
    "    fig.update_layout(title_x=0.5,plot_bgcolor='#F2DFCE',paper_bgcolor='#F2DFCE',xaxis_title=\"Date\",yaxis_title=yaxis_title)\n",
    "    return fig"
   ]
  },
  {
   "cell_type": "code",
   "execution_count": 25,
   "id": "7f2734a6",
   "metadata": {},
   "outputs": [],
   "source": [
    "external_stylesheets = [dbc.themes.BOOTSTRAP]"
   ]
  },
  {
   "cell_type": "code",
   "execution_count": 26,
   "id": "58b93fca",
   "metadata": {},
   "outputs": [],
   "source": [
    "app = dash.Dash(__name__, external_stylesheets=external_stylesheets)\n",
    "app.title = 'Covid-19 Dashboard'"
   ]
  },
  {
   "cell_type": "code",
   "execution_count": 27,
   "id": "0440f1c4",
   "metadata": {},
   "outputs": [],
   "source": [
    "\n",
    "colors = {\n",
    "    'background': '#111111',\n",
    "    'bodyColor':'#F2DFCE',\n",
    "    'text': '#7FDBFF'\n",
    "}\n",
    "def get_page_heading_style():\n",
    "    return {'backgroundColor': colors['background']}\n",
    "\n",
    "\n",
    "def get_page_heading_title():\n",
    "    return html.H1(children='COVID-19 Dashboard',\n",
    "                                        style={\n",
    "                                        'textAlign': 'center',\n",
    "                                        'color': colors['text']\n",
    "                                    })\n",
    "\n",
    "def get_page_heading_subtitle():\n",
    "    return html.Div(children='Visualize Covid-19 data generated from sources all over the world.',\n",
    "                                         style={\n",
    "                                             'textAlign':'center',\n",
    "                                             'color':colors['text']\n",
    "                                         })\n",
    "\n",
    "def generate_page_header():\n",
    "    main_header =  dbc.Row(\n",
    "                            [\n",
    "                                dbc.Col(get_page_heading_title(),md=12)\n",
    "                            ],\n",
    "                            align=\"center\",\n",
    "                            style=get_page_heading_style()\n",
    "                        )\n",
    "    subtitle_header = dbc.Row(\n",
    "                            [\n",
    "                                dbc.Col(get_page_heading_subtitle(),md=12)\n",
    "                            ],\n",
    "                            align=\"center\",\n",
    "                            style=get_page_heading_style()\n",
    "                        )\n",
    "    header = (main_header,subtitle_header)\n",
    "    return header"
   ]
  },
  {
   "cell_type": "code",
   "execution_count": 28,
   "id": "50c73cc7",
   "metadata": {},
   "outputs": [],
   "source": [
    "def get_country_list():\n",
    "    return covid_conf_ts['Country/Region'].unique()\n",
    "\n",
    "def create_dropdown_list(cntry_list):\n",
    "    dropdown_list = []\n",
    "    for cntry in sorted(cntry_list):\n",
    "        tmp_dict = {'label':cntry,'value':cntry}\n",
    "        dropdown_list.append(tmp_dict)\n",
    "    return dropdown_list\n",
    "\n",
    "def get_country_dropdown(id):\n",
    "    return html.Div([\n",
    "                        html.Label('Select Country'),\n",
    "                        dcc.Dropdown(id='my-id'+str(id),\n",
    "                            options=create_dropdown_list(get_country_list()),\n",
    "                            value='US'\n",
    "                        ),\n",
    "                        html.Div(id='my-div'+str(id))\n",
    "                    ])"
   ]
  },
  {
   "cell_type": "code",
   "execution_count": 29,
   "id": "002dfc44",
   "metadata": {},
   "outputs": [],
   "source": [
    "def graph1():\n",
    "    return dcc.Graph(id='graph1',figure=fig_world_trend('US'))"
   ]
  },
  {
   "cell_type": "code",
   "execution_count": 30,
   "id": "f52c7b7e",
   "metadata": {},
   "outputs": [],
   "source": [
    "def generate_card_content(card_header,card_value,overall_value):\n",
    "    card_head_style = {'textAlign':'center','fontSize':'150%'}\n",
    "    card_body_style = {'textAlign':'center','fontSize':'200%'}\n",
    "    card_header = dbc.CardHeader(card_header,style=card_head_style)\n",
    "    card_body = dbc.CardBody(\n",
    "        [\n",
    "            html.H5(f\"{int(card_value):,}\", className=\"card-title\",style=card_body_style),\n",
    "            html.P(\n",
    "                \"Worlwide: {:,}\".format(overall_value),\n",
    "                className=\"card-text\",style={'textAlign':'center'}\n",
    "            ),\n",
    "        ]\n",
    "    )\n",
    "    card = [card_header,card_body]\n",
    "    return card"
   ]
  },
  {
   "cell_type": "code",
   "execution_count": 31,
   "id": "ff436437",
   "metadata": {},
   "outputs": [],
   "source": [
    "def generate_cards(cntry='US'):\n",
    "    conf_cntry_total = get_cntry_total(covid_conf_ts,cntry)\n",
    "    dead_cntry_total = get_cntry_total(covid_dead_ts,cntry)\n",
    "    recv_cntry_total = get_cntry_total(covid_recv_ts,cntry)\n",
    "    cards = html.Div(\n",
    "        [\n",
    "            dbc.Row(\n",
    "                [\n",
    "                    dbc.Col(dbc.Card(generate_card_content(\"Recovered\",recv_cntry_total,recv_overall_total), color=\"success\", inverse=True),md=dict(size=2,offset=3)),\n",
    "                    dbc.Col(dbc.Card(generate_card_content(\"Confirmed\",conf_cntry_total,conf_overall_total), color=\"warning\", inverse=True),md=dict(size=2)),\n",
    "                    dbc.Col(dbc.Card(generate_card_content(\"Dead\",dead_cntry_total,dead_overall_total),color=\"dark\", inverse=True),md=dict(size=2)),\n",
    "                ],\n",
    "                className=\"mb-4\",\n",
    "            ),\n",
    "        ],id='card1'\n",
    "    )\n",
    "    return cards"
   ]
  },
  {
   "cell_type": "code",
   "execution_count": 32,
   "id": "9df56c6c",
   "metadata": {},
   "outputs": [],
   "source": [
    "def get_slider():\n",
    "    return html.Div([  \n",
    "                        dcc.Slider(\n",
    "                            id='my-slider',\n",
    "                            min=1,\n",
    "                            max=15,\n",
    "                            step=None,\n",
    "                            marks={\n",
    "                                1: '1',\n",
    "                                3: '3',\n",
    "                                5: '5',\n",
    "                                7: '1-Week',\n",
    "                                14: 'Fortnight'\n",
    "                            },\n",
    "                            value=3,\n",
    "                        ),\n",
    "                        html.Div([html.Label('Select Moving Average Window')],id='my-div'+str(id),style={'textAlign':'center'})\n",
    "                    ])"
   ]
  },
  {
   "cell_type": "code",
   "execution_count": 33,
   "id": "8b7c822c",
   "metadata": {},
   "outputs": [],
   "source": [
    "def generate_layout():\n",
    "    page_header = generate_page_header()\n",
    "    layout = dbc.Container(\n",
    "        [\n",
    "            page_header[0],\n",
    "            page_header[1],\n",
    "            html.Hr(),\n",
    "            generate_cards(),\n",
    "            html.Hr(),\n",
    "            dbc.Row(\n",
    "                [\n",
    "                    dbc.Col(get_country_dropdown(id=1),md=dict(size=4,offset=4))                    \n",
    "                ]\n",
    "            \n",
    "            ),\n",
    "            dbc.Row(\n",
    "                [                \n",
    "                    \n",
    "                    dbc.Col(graph1(),md=dict(size=6,offset=3))\n",
    "        \n",
    "                ],\n",
    "                align=\"center\",\n",
    "\n",
    "            ),\n",
    "            dbc.Row(\n",
    "                [\n",
    "                    dbc.Col(get_slider(),md=dict(size=4,offset=4))                    \n",
    "                ]\n",
    "            \n",
    "            ),\n",
    "        ],fluid=True,style={'backgroundColor': colors['bodyColor']}\n",
    "    )\n",
    "    return layout"
   ]
  },
  {
   "cell_type": "code",
   "execution_count": 34,
   "id": "f2525b3a",
   "metadata": {},
   "outputs": [],
   "source": [
    "app.layout = generate_layout()"
   ]
  },
  {
   "cell_type": "code",
   "execution_count": 35,
   "id": "4518dfb7",
   "metadata": {},
   "outputs": [],
   "source": [
    "@app.callback(\n",
    "    [Output(component_id='graph1',component_property='figure'), #line chart\n",
    "    Output(component_id='card1',component_property='children')], #overall card numbers\n",
    "    [Input(component_id='my-id1',component_property='value'), #dropdown\n",
    "     Input(component_id='my-slider',component_property='value')] #slider\n",
    ")\n",
    "def update_output_div(input_value1,input_value2):\n",
    "    return fig_world_trend(input_value1,input_value2),generate_cards(input_value1)"
   ]
  },
  {
   "cell_type": "code",
   "execution_count": null,
   "id": "ac77b31c",
   "metadata": {},
   "outputs": [
    {
     "name": "stdout",
     "output_type": "stream",
     "text": [
      "Dash is running on http://0.0.0.0:8050/\n",
      "\n",
      " * Serving Flask app \"__main__\" (lazy loading)\n",
      " * Environment: production\n",
      "\u001b[31m   WARNING: This is a development server. Do not use it in a production deployment.\u001b[0m\n",
      "\u001b[2m   Use a production WSGI server instead.\u001b[0m\n",
      " * Debug mode: off\n"
     ]
    },
    {
     "name": "stderr",
     "output_type": "stream",
     "text": [
      " * Running on http://0.0.0.0:8050/ (Press CTRL+C to quit)\n",
      "127.0.0.1 - - [02/May/2021 23:14:09] \"\u001b[37mGET / HTTP/1.1\u001b[0m\" 200 -\n",
      "127.0.0.1 - - [02/May/2021 23:14:09] \"\u001b[37mGET /_dash-component-suites/dash_renderer/prop-types@15.v1_9_1m1617900226.7.2.min.js HTTP/1.1\u001b[0m\" 200 -\n",
      "127.0.0.1 - - [02/May/2021 23:14:09] \"\u001b[37mGET /_dash-component-suites/dash_renderer/react@16.v1_9_1m1617900226.14.0.min.js HTTP/1.1\u001b[0m\" 200 -\n",
      "127.0.0.1 - - [02/May/2021 23:14:09] \"\u001b[37mGET /_dash-component-suites/dash_renderer/polyfill@7.v1_9_1m1617900226.8.7.min.js HTTP/1.1\u001b[0m\" 200 -\n",
      "127.0.0.1 - - [02/May/2021 23:14:09] \"\u001b[37mGET /_dash-component-suites/dash_core_components/dash_core_components-shared.v1_16_0m1617909890.js HTTP/1.1\u001b[0m\" 200 -\n",
      "127.0.0.1 - - [02/May/2021 23:14:09] \"\u001b[37mGET /_dash-component-suites/dash_renderer/react-dom@16.v1_9_1m1617900226.14.0.min.js HTTP/1.1\u001b[0m\" 200 -\n",
      "127.0.0.1 - - [02/May/2021 23:14:09] \"\u001b[37mGET /_dash-component-suites/dash_html_components/dash_html_components.v1_1_3m1617909188.min.js HTTP/1.1\u001b[0m\" 200 -\n",
      "127.0.0.1 - - [02/May/2021 23:14:09] \"\u001b[37mGET /_dash-component-suites/dash_core_components/dash_core_components.v1_16_0m1617909890.min.js HTTP/1.1\u001b[0m\" 200 -\n",
      "127.0.0.1 - - [02/May/2021 23:14:09] \"\u001b[37mGET /_dash-component-suites/dash_bootstrap_components/_components/dash_bootstrap_components.v0_12_0m1620009520.min.js HTTP/1.1\u001b[0m\" 200 -\n",
      "127.0.0.1 - - [02/May/2021 23:14:09] \"\u001b[37mGET /_dash-component-suites/dash_renderer/dash_renderer.v1_9_1m1617900246.min.js HTTP/1.1\u001b[0m\" 200 -\n",
      "127.0.0.1 - - [02/May/2021 23:14:09] \"\u001b[37mGET /_dash-dependencies HTTP/1.1\u001b[0m\" 200 -\n",
      "127.0.0.1 - - [02/May/2021 23:14:09] \"\u001b[37mGET /_favicon.ico?v=1.20.0 HTTP/1.1\u001b[0m\" 200 -\n",
      "127.0.0.1 - - [02/May/2021 23:14:09] \"\u001b[37mGET /_dash-layout HTTP/1.1\u001b[0m\" 200 -\n",
      "127.0.0.1 - - [02/May/2021 23:14:09] \"\u001b[37mGET /_dash-component-suites/dash_core_components/async-graph.v1_16_0m1617903285.js HTTP/1.1\u001b[0m\" 200 -\n",
      "127.0.0.1 - - [02/May/2021 23:14:09] \"\u001b[37mGET /_dash-component-suites/dash_core_components/async-dropdown.v1_16_0m1617903285.js HTTP/1.1\u001b[0m\" 200 -\n",
      "127.0.0.1 - - [02/May/2021 23:14:09] \"\u001b[37mGET /_dash-component-suites/dash_core_components/async-slider.v1_16_0m1617903285.js HTTP/1.1\u001b[0m\" 200 -\n",
      "127.0.0.1 - - [02/May/2021 23:14:09] \"\u001b[37mPOST /_dash-update-component HTTP/1.1\u001b[0m\" 200 -\n",
      "127.0.0.1 - - [02/May/2021 23:14:09] \"\u001b[37mGET /_dash-component-suites/dash_core_components/async-plotlyjs.v1_16_0m1617903285.js HTTP/1.1\u001b[0m\" 200 -\n",
      "127.0.0.1 - - [02/May/2021 23:14:21] \"\u001b[37mPOST /_dash-update-component HTTP/1.1\u001b[0m\" 200 -\n",
      "127.0.0.1 - - [02/May/2021 23:36:22] \"\u001b[37mPOST /_dash-update-component HTTP/1.1\u001b[0m\" 200 -\n",
      "127.0.0.1 - - [02/May/2021 23:36:28] \"\u001b[37mPOST /_dash-update-component HTTP/1.1\u001b[0m\" 200 -\n",
      "127.0.0.1 - - [02/May/2021 23:36:34] \"\u001b[37mPOST /_dash-update-component HTTP/1.1\u001b[0m\" 200 -\n",
      "127.0.0.1 - - [02/May/2021 23:36:37] \"\u001b[37mPOST /_dash-update-component HTTP/1.1\u001b[0m\" 200 -\n",
      "127.0.0.1 - - [02/May/2021 23:36:43] \"\u001b[37mPOST /_dash-update-component HTTP/1.1\u001b[0m\" 200 -\n",
      "127.0.0.1 - - [02/May/2021 23:36:55] \"\u001b[37mPOST /_dash-update-component HTTP/1.1\u001b[0m\" 200 -\n"
     ]
    }
   ],
   "source": [
    "app.run_server(host= '0.0.0.0',debug=False)"
   ]
  },
  {
   "cell_type": "code",
   "execution_count": null,
   "id": "a430ec60",
   "metadata": {},
   "outputs": [],
   "source": []
  }
 ],
 "metadata": {
  "kernelspec": {
   "display_name": "Python 3",
   "language": "python",
   "name": "python3"
  },
  "language_info": {
   "codemirror_mode": {
    "name": "ipython",
    "version": 3
   },
   "file_extension": ".py",
   "mimetype": "text/x-python",
   "name": "python",
   "nbconvert_exporter": "python",
   "pygments_lexer": "ipython3",
   "version": "3.9.2"
  }
 },
 "nbformat": 4,
 "nbformat_minor": 5
}
