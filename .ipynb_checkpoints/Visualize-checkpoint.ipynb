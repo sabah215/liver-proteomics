{
 "cells": [
  {
   "cell_type": "code",
   "execution_count": 17,
   "id": "fbf57b27",
   "metadata": {},
   "outputs": [
    {
     "name": "stdout",
     "output_type": "stream",
     "text": [
      "Requirement already satisfied: pandas in /Users/sabah/Documents/Projects/Environments/livPro_env/lib/python3.9/site-packages (1.2.4)\n",
      "Requirement already satisfied: python-dateutil>=2.7.3 in /Users/sabah/Documents/Projects/Environments/livPro_env/lib/python3.9/site-packages (from pandas) (2.8.1)\n",
      "Requirement already satisfied: numpy>=1.16.5 in /Users/sabah/Documents/Projects/Environments/livPro_env/lib/python3.9/site-packages (from pandas) (1.20.2)\n",
      "Requirement already satisfied: pytz>=2017.3 in /Users/sabah/Documents/Projects/Environments/livPro_env/lib/python3.9/site-packages (from pandas) (2021.1)\n",
      "Requirement already satisfied: six>=1.5 in /Users/sabah/Documents/Projects/Environments/livPro_env/lib/python3.9/site-packages (from python-dateutil>=2.7.3->pandas) (1.15.0)\n",
      "\u001b[33mWARNING: You are using pip version 21.0.1; however, version 21.1.1 is available.\n",
      "You should consider upgrading via the '/Users/sabah/Documents/Projects/Environments/livPro_env/bin/python -m pip install --upgrade pip' command.\u001b[0m\n",
      "Requirement already satisfied: plotly in /Users/sabah/Documents/Projects/Environments/livPro_env/lib/python3.9/site-packages (4.14.3)\n",
      "Requirement already satisfied: six in /Users/sabah/Documents/Projects/Environments/livPro_env/lib/python3.9/site-packages (from plotly) (1.15.0)\n",
      "Requirement already satisfied: retrying>=1.3.3 in /Users/sabah/Documents/Projects/Environments/livPro_env/lib/python3.9/site-packages (from plotly) (1.3.3)\n",
      "\u001b[33mWARNING: You are using pip version 21.0.1; however, version 21.1.1 is available.\n",
      "You should consider upgrading via the '/Users/sabah/Documents/Projects/Environments/livPro_env/bin/python -m pip install --upgrade pip' command.\u001b[0m\n",
      "Requirement already satisfied: dash in /Users/sabah/Documents/Projects/Environments/livPro_env/lib/python3.9/site-packages (1.20.0)\n",
      "Requirement already satisfied: dash-core-components==1.16.0 in /Users/sabah/Documents/Projects/Environments/livPro_env/lib/python3.9/site-packages (from dash) (1.16.0)\n",
      "Requirement already satisfied: future in /Users/sabah/Documents/Projects/Environments/livPro_env/lib/python3.9/site-packages (from dash) (0.18.2)\n",
      "Requirement already satisfied: dash-renderer==1.9.1 in /Users/sabah/Documents/Projects/Environments/livPro_env/lib/python3.9/site-packages (from dash) (1.9.1)\n",
      "Requirement already satisfied: Flask>=1.0.4 in /Users/sabah/Documents/Projects/Environments/livPro_env/lib/python3.9/site-packages (from dash) (1.1.2)\n",
      "Requirement already satisfied: dash-table==4.11.3 in /Users/sabah/Documents/Projects/Environments/livPro_env/lib/python3.9/site-packages (from dash) (4.11.3)\n",
      "Requirement already satisfied: dash-html-components==1.1.3 in /Users/sabah/Documents/Projects/Environments/livPro_env/lib/python3.9/site-packages (from dash) (1.1.3)\n",
      "Requirement already satisfied: flask-compress in /Users/sabah/Documents/Projects/Environments/livPro_env/lib/python3.9/site-packages (from dash) (1.9.0)\n",
      "Requirement already satisfied: plotly in /Users/sabah/Documents/Projects/Environments/livPro_env/lib/python3.9/site-packages (from dash) (4.14.3)\n",
      "Requirement already satisfied: Werkzeug>=0.15 in /Users/sabah/Documents/Projects/Environments/livPro_env/lib/python3.9/site-packages (from Flask>=1.0.4->dash) (1.0.1)\n",
      "Requirement already satisfied: Jinja2>=2.10.1 in /Users/sabah/Documents/Projects/Environments/livPro_env/lib/python3.9/site-packages (from Flask>=1.0.4->dash) (2.11.3)\n",
      "Requirement already satisfied: itsdangerous>=0.24 in /Users/sabah/Documents/Projects/Environments/livPro_env/lib/python3.9/site-packages (from Flask>=1.0.4->dash) (1.1.0)\n",
      "Requirement already satisfied: click>=5.1 in /Users/sabah/Documents/Projects/Environments/livPro_env/lib/python3.9/site-packages (from Flask>=1.0.4->dash) (7.1.2)\n",
      "Requirement already satisfied: MarkupSafe>=0.23 in /Users/sabah/Documents/Projects/Environments/livPro_env/lib/python3.9/site-packages (from Jinja2>=2.10.1->Flask>=1.0.4->dash) (1.1.1)\n",
      "Requirement already satisfied: brotli in /Users/sabah/Documents/Projects/Environments/livPro_env/lib/python3.9/site-packages (from flask-compress->dash) (1.0.9)\n",
      "Requirement already satisfied: retrying>=1.3.3 in /Users/sabah/Documents/Projects/Environments/livPro_env/lib/python3.9/site-packages (from plotly->dash) (1.3.3)\n",
      "Requirement already satisfied: six in /Users/sabah/Documents/Projects/Environments/livPro_env/lib/python3.9/site-packages (from plotly->dash) (1.15.0)\n",
      "\u001b[33mWARNING: You are using pip version 21.0.1; however, version 21.1.1 is available.\n",
      "You should consider upgrading via the '/Users/sabah/Documents/Projects/Environments/livPro_env/bin/python -m pip install --upgrade pip' command.\u001b[0m\n",
      "Requirement already satisfied: dash_bootstrap_components in /Users/sabah/Documents/Projects/Environments/livPro_env/lib/python3.9/site-packages (0.12.1)\n",
      "Requirement already satisfied: dash>=1.9.0 in /Users/sabah/Documents/Projects/Environments/livPro_env/lib/python3.9/site-packages (from dash_bootstrap_components) (1.20.0)\n",
      "Requirement already satisfied: Flask>=1.0.4 in /Users/sabah/Documents/Projects/Environments/livPro_env/lib/python3.9/site-packages (from dash>=1.9.0->dash_bootstrap_components) (1.1.2)\n",
      "Requirement already satisfied: dash-html-components==1.1.3 in /Users/sabah/Documents/Projects/Environments/livPro_env/lib/python3.9/site-packages (from dash>=1.9.0->dash_bootstrap_components) (1.1.3)\n",
      "Requirement already satisfied: plotly in /Users/sabah/Documents/Projects/Environments/livPro_env/lib/python3.9/site-packages (from dash>=1.9.0->dash_bootstrap_components) (4.14.3)\n",
      "Requirement already satisfied: flask-compress in /Users/sabah/Documents/Projects/Environments/livPro_env/lib/python3.9/site-packages (from dash>=1.9.0->dash_bootstrap_components) (1.9.0)\n",
      "Requirement already satisfied: dash-table==4.11.3 in /Users/sabah/Documents/Projects/Environments/livPro_env/lib/python3.9/site-packages (from dash>=1.9.0->dash_bootstrap_components) (4.11.3)\n",
      "Requirement already satisfied: dash-core-components==1.16.0 in /Users/sabah/Documents/Projects/Environments/livPro_env/lib/python3.9/site-packages (from dash>=1.9.0->dash_bootstrap_components) (1.16.0)\n",
      "Requirement already satisfied: dash-renderer==1.9.1 in /Users/sabah/Documents/Projects/Environments/livPro_env/lib/python3.9/site-packages (from dash>=1.9.0->dash_bootstrap_components) (1.9.1)\n",
      "Requirement already satisfied: future in /Users/sabah/Documents/Projects/Environments/livPro_env/lib/python3.9/site-packages (from dash>=1.9.0->dash_bootstrap_components) (0.18.2)\n",
      "Requirement already satisfied: Werkzeug>=0.15 in /Users/sabah/Documents/Projects/Environments/livPro_env/lib/python3.9/site-packages (from Flask>=1.0.4->dash>=1.9.0->dash_bootstrap_components) (1.0.1)\n",
      "Requirement already satisfied: click>=5.1 in /Users/sabah/Documents/Projects/Environments/livPro_env/lib/python3.9/site-packages (from Flask>=1.0.4->dash>=1.9.0->dash_bootstrap_components) (7.1.2)\n",
      "Requirement already satisfied: Jinja2>=2.10.1 in /Users/sabah/Documents/Projects/Environments/livPro_env/lib/python3.9/site-packages (from Flask>=1.0.4->dash>=1.9.0->dash_bootstrap_components) (2.11.3)\n",
      "Requirement already satisfied: itsdangerous>=0.24 in /Users/sabah/Documents/Projects/Environments/livPro_env/lib/python3.9/site-packages (from Flask>=1.0.4->dash>=1.9.0->dash_bootstrap_components) (1.1.0)\n",
      "Requirement already satisfied: MarkupSafe>=0.23 in /Users/sabah/Documents/Projects/Environments/livPro_env/lib/python3.9/site-packages (from Jinja2>=2.10.1->Flask>=1.0.4->dash>=1.9.0->dash_bootstrap_components) (1.1.1)\n",
      "Requirement already satisfied: brotli in /Users/sabah/Documents/Projects/Environments/livPro_env/lib/python3.9/site-packages (from flask-compress->dash>=1.9.0->dash_bootstrap_components) (1.0.9)\n",
      "Requirement already satisfied: six in /Users/sabah/Documents/Projects/Environments/livPro_env/lib/python3.9/site-packages (from plotly->dash>=1.9.0->dash_bootstrap_components) (1.15.0)\n",
      "Requirement already satisfied: retrying>=1.3.3 in /Users/sabah/Documents/Projects/Environments/livPro_env/lib/python3.9/site-packages (from plotly->dash>=1.9.0->dash_bootstrap_components) (1.3.3)\n",
      "\u001b[33mWARNING: You are using pip version 21.0.1; however, version 21.1.1 is available.\n",
      "You should consider upgrading via the '/Users/sabah/Documents/Projects/Environments/livPro_env/bin/python -m pip install --upgrade pip' command.\u001b[0m\n"
     ]
    },
    {
     "name": "stdout",
     "output_type": "stream",
     "text": [
      "Requirement already satisfied: bioinfokit in /Users/sabah/Documents/Projects/Environments/livPro_env/lib/python3.9/site-packages (2.0.3)\n",
      "Requirement already satisfied: matplotlib in /Users/sabah/Documents/Projects/Environments/livPro_env/lib/python3.9/site-packages (from bioinfokit) (3.4.1)\n",
      "Requirement already satisfied: statsmodels in /Users/sabah/Documents/Projects/Environments/livPro_env/lib/python3.9/site-packages (from bioinfokit) (0.12.2)\n",
      "Requirement already satisfied: tabulate in /Users/sabah/Documents/Projects/Environments/livPro_env/lib/python3.9/site-packages (from bioinfokit) (0.8.9)\n",
      "Requirement already satisfied: scipy in /Users/sabah/Documents/Projects/Environments/livPro_env/lib/python3.9/site-packages (from bioinfokit) (1.6.3)\n",
      "Requirement already satisfied: textwrap3 in /Users/sabah/Documents/Projects/Environments/livPro_env/lib/python3.9/site-packages (from bioinfokit) (0.9.2)\n",
      "Requirement already satisfied: seaborn in /Users/sabah/Documents/Projects/Environments/livPro_env/lib/python3.9/site-packages (from bioinfokit) (0.11.1)\n",
      "Requirement already satisfied: adjustText in /Users/sabah/Documents/Projects/Environments/livPro_env/lib/python3.9/site-packages (from bioinfokit) (0.7.3)\n",
      "Requirement already satisfied: matplotlib-venn in /Users/sabah/Documents/Projects/Environments/livPro_env/lib/python3.9/site-packages (from bioinfokit) (0.11.6)\n",
      "Requirement already satisfied: numpy in /Users/sabah/Documents/Projects/Environments/livPro_env/lib/python3.9/site-packages (from bioinfokit) (1.20.2)\n",
      "Requirement already satisfied: scikit-learn in /Users/sabah/Documents/Projects/Environments/livPro_env/lib/python3.9/site-packages (from bioinfokit) (0.24.2)\n",
      "Requirement already satisfied: pandas in /Users/sabah/Documents/Projects/Environments/livPro_env/lib/python3.9/site-packages (from bioinfokit) (1.2.4)\n",
      "Requirement already satisfied: cycler>=0.10 in /Users/sabah/Documents/Projects/Environments/livPro_env/lib/python3.9/site-packages (from matplotlib->bioinfokit) (0.10.0)\n",
      "Requirement already satisfied: python-dateutil>=2.7 in /Users/sabah/Documents/Projects/Environments/livPro_env/lib/python3.9/site-packages (from matplotlib->bioinfokit) (2.8.1)\n",
      "Requirement already satisfied: kiwisolver>=1.0.1 in /Users/sabah/Documents/Projects/Environments/livPro_env/lib/python3.9/site-packages (from matplotlib->bioinfokit) (1.3.1)\n",
      "Requirement already satisfied: pillow>=6.2.0 in /Users/sabah/Documents/Projects/Environments/livPro_env/lib/python3.9/site-packages (from matplotlib->bioinfokit) (8.2.0)\n",
      "Requirement already satisfied: pyparsing>=2.2.1 in /Users/sabah/Documents/Projects/Environments/livPro_env/lib/python3.9/site-packages (from matplotlib->bioinfokit) (2.4.7)\n",
      "Requirement already satisfied: six in /Users/sabah/Documents/Projects/Environments/livPro_env/lib/python3.9/site-packages (from cycler>=0.10->matplotlib->bioinfokit) (1.15.0)\n",
      "Requirement already satisfied: pytz>=2017.3 in /Users/sabah/Documents/Projects/Environments/livPro_env/lib/python3.9/site-packages (from pandas->bioinfokit) (2021.1)\n",
      "Requirement already satisfied: joblib>=0.11 in /Users/sabah/Documents/Projects/Environments/livPro_env/lib/python3.9/site-packages (from scikit-learn->bioinfokit) (1.0.1)\n",
      "Requirement already satisfied: threadpoolctl>=2.0.0 in /Users/sabah/Documents/Projects/Environments/livPro_env/lib/python3.9/site-packages (from scikit-learn->bioinfokit) (2.1.0)\n",
      "Requirement already satisfied: patsy>=0.5 in /Users/sabah/Documents/Projects/Environments/livPro_env/lib/python3.9/site-packages (from statsmodels->bioinfokit) (0.5.1)\n",
      "\u001b[33mWARNING: You are using pip version 21.0.1; however, version 21.1.1 is available.\n",
      "You should consider upgrading via the '/Users/sabah/Documents/Projects/Environments/livPro_env/bin/python -m pip install --upgrade pip' command.\u001b[0m\n"
     ]
    }
   ],
   "source": [
    "!pip install pandas\n",
    "!pip install plotly\n",
    "!pip install dash\n",
    "!pip install dash_bootstrap_components\n",
    "!pip install bioinfokit"
   ]
  },
  {
   "cell_type": "code",
   "execution_count": 2,
   "id": "a198af34",
   "metadata": {},
   "outputs": [],
   "source": [
    "import pandas as pd\n",
    "pd.set_option('max_rows',20)\n",
    "import plotly.express as px\n",
    "import plotly.io as pio\n",
    "pio.renderers.default = \"browser\""
   ]
  },
  {
   "cell_type": "code",
   "execution_count": 19,
   "id": "743d5bd5",
   "metadata": {},
   "outputs": [],
   "source": [
    "import dash\n",
    "from dash.dependencies import Input, Output\n",
    "import dash_core_components as dcc\n",
    "import dash_html_components as html\n",
    "import dash_bootstrap_components as dbc\n",
    "from bioinfokit import analys, visuz"
   ]
  },
  {
   "cell_type": "code",
   "execution_count": 4,
   "id": "ea1020c0",
   "metadata": {},
   "outputs": [],
   "source": [
    "df_norm_nafld = pd.read_csv('~/Desktop/data/Liver_Homegenate_per_mg_protein_Log2FC_Normal_NAFLD.csv')"
   ]
  },
  {
   "cell_type": "code",
   "execution_count": 5,
   "id": "e1f488ff",
   "metadata": {},
   "outputs": [
    {
     "data": {
      "text/html": [
       "<div>\n",
       "<style scoped>\n",
       "    .dataframe tbody tr th:only-of-type {\n",
       "        vertical-align: middle;\n",
       "    }\n",
       "\n",
       "    .dataframe tbody tr th {\n",
       "        vertical-align: top;\n",
       "    }\n",
       "\n",
       "    .dataframe thead th {\n",
       "        text-align: right;\n",
       "    }\n",
       "</style>\n",
       "<table border=\"1\" class=\"dataframe\">\n",
       "  <thead>\n",
       "    <tr style=\"text-align: right;\">\n",
       "      <th></th>\n",
       "      <th>gene_symbol</th>\n",
       "      <th>log2FoldChange</th>\n",
       "      <th>pvalue</th>\n",
       "    </tr>\n",
       "  </thead>\n",
       "  <tbody>\n",
       "    <tr>\n",
       "      <th>3</th>\n",
       "      <td>IGKV2-28</td>\n",
       "      <td>0.048969</td>\n",
       "      <td>0.857573</td>\n",
       "    </tr>\n",
       "    <tr>\n",
       "      <th>5</th>\n",
       "      <td>IGKV3D-11</td>\n",
       "      <td>-0.069208</td>\n",
       "      <td>0.820737</td>\n",
       "    </tr>\n",
       "    <tr>\n",
       "      <th>6</th>\n",
       "      <td>IGHV3-15</td>\n",
       "      <td>0.151993</td>\n",
       "      <td>0.576157</td>\n",
       "    </tr>\n",
       "    <tr>\n",
       "      <th>9</th>\n",
       "      <td>PIGBOS1</td>\n",
       "      <td>0.204994</td>\n",
       "      <td>0.103512</td>\n",
       "    </tr>\n",
       "    <tr>\n",
       "      <th>11</th>\n",
       "      <td>IGHV4-28</td>\n",
       "      <td>-0.170953</td>\n",
       "      <td>0.463062</td>\n",
       "    </tr>\n",
       "    <tr>\n",
       "      <th>...</th>\n",
       "      <td>...</td>\n",
       "      <td>...</td>\n",
       "      <td>...</td>\n",
       "    </tr>\n",
       "    <tr>\n",
       "      <th>3846</th>\n",
       "      <td>SQOR</td>\n",
       "      <td>0.143932</td>\n",
       "      <td>0.224777</td>\n",
       "    </tr>\n",
       "    <tr>\n",
       "      <th>3847</th>\n",
       "      <td>PCLO</td>\n",
       "      <td>0.159105</td>\n",
       "      <td>0.060381</td>\n",
       "    </tr>\n",
       "    <tr>\n",
       "      <th>3848</th>\n",
       "      <td>WASF2</td>\n",
       "      <td>-0.042245</td>\n",
       "      <td>0.648799</td>\n",
       "    </tr>\n",
       "    <tr>\n",
       "      <th>3849</th>\n",
       "      <td>ENPP4</td>\n",
       "      <td>0.181110</td>\n",
       "      <td>0.103275</td>\n",
       "    </tr>\n",
       "    <tr>\n",
       "      <th>3850</th>\n",
       "      <td>SEC23IP</td>\n",
       "      <td>0.072706</td>\n",
       "      <td>0.355516</td>\n",
       "    </tr>\n",
       "  </tbody>\n",
       "</table>\n",
       "<p>3643 rows × 3 columns</p>\n",
       "</div>"
      ],
      "text/plain": [
       "     gene_symbol  log2FoldChange    pvalue\n",
       "3       IGKV2-28        0.048969  0.857573\n",
       "5      IGKV3D-11       -0.069208  0.820737\n",
       "6       IGHV3-15        0.151993  0.576157\n",
       "9        PIGBOS1        0.204994  0.103512\n",
       "11      IGHV4-28       -0.170953  0.463062\n",
       "...          ...             ...       ...\n",
       "3846        SQOR        0.143932  0.224777\n",
       "3847        PCLO        0.159105  0.060381\n",
       "3848       WASF2       -0.042245  0.648799\n",
       "3849       ENPP4        0.181110  0.103275\n",
       "3850     SEC23IP        0.072706  0.355516\n",
       "\n",
       "[3643 rows x 3 columns]"
      ]
     },
     "execution_count": 5,
     "metadata": {},
     "output_type": "execute_result"
    }
   ],
   "source": [
    "df_norm_nafld.dropna()"
   ]
  },
  {
   "cell_type": "code",
   "execution_count": 6,
   "id": "53b374f1",
   "metadata": {},
   "outputs": [
    {
     "name": "stdout",
     "output_type": "stream",
     "text": [
      "Requirement already satisfied: certifi in /Library/Frameworks/Python.framework/Versions/3.9/lib/python3.9/site-packages (2020.12.5)\n",
      "\u001b[33mWARNING: You are using pip version 21.0.1; however, version 21.1 is available.\n",
      "You should consider upgrading via the '/Library/Frameworks/Python.framework/Versions/3.9/bin/python3.9 -m pip install --upgrade pip' command.\u001b[0m\n",
      "Note: you may need to restart the kernel to use updated packages.\n"
     ]
    }
   ],
   "source": [
    "pip install certifi"
   ]
  },
  {
   "cell_type": "code",
   "execution_count": 7,
   "id": "5efa4d54",
   "metadata": {},
   "outputs": [],
   "source": [
    "external_stylesheets = [dbc.themes.BOOTSTRAP]"
   ]
  },
  {
   "cell_type": "code",
   "execution_count": 8,
   "id": "a8557793",
   "metadata": {},
   "outputs": [],
   "source": [
    "app = dash.Dash(__name__, external_stylesheets=external_stylesheets)\n",
    "app.title = 'Data Visualization tool for Liver Proteomics'"
   ]
  },
  {
   "cell_type": "code",
   "execution_count": 9,
   "id": "d246594c",
   "metadata": {},
   "outputs": [],
   "source": [
    "colors = {\n",
    "    'background': '#111111',\n",
    "    'bodyColor':'#F2DFCE',\n",
    "    'text': '#7FDBFF'\n",
    "}\n",
    "def get_page_heading_style():\n",
    "    return {'backgroundColor': colors['background']}\n",
    "\n",
    "\n",
    "def get_page_heading_title():\n",
    "    return html.H1(children='NAFLD DASHBOARD',\n",
    "                                        style={\n",
    "                                        'textAlign': 'center',\n",
    "                                        'color': colors['text']\n",
    "                                    })\n",
    "\n",
    "def get_page_heading_subtitle():\n",
    "    return html.Div(children='Visualize Liver Proteomics Data generated from SWATH MS Spectronaut.',\n",
    "                                         style={\n",
    "                                             'textAlign':'center',\n",
    "                                             'color':colors['text']\n",
    "                                         })\n",
    "\n",
    "def generate_page_header():\n",
    "    main_header =  dbc.Row(\n",
    "                            [\n",
    "                                dbc.Col(get_page_heading_title(),md=12)\n",
    "                            ],\n",
    "                            align=\"center\",\n",
    "                            style=get_page_heading_style()\n",
    "                        )\n",
    "    subtitle_header = dbc.Row(\n",
    "                            [\n",
    "                                dbc.Col(get_page_heading_subtitle(),md=12)\n",
    "                            ],\n",
    "                            align=\"center\",\n",
    "                            style=get_page_heading_style()\n",
    "                        )\n",
    "    header = (main_header,subtitle_header)\n",
    "    return header"
   ]
  },
  {
   "cell_type": "code",
   "execution_count": 10,
   "id": "b5276a86",
   "metadata": {},
   "outputs": [
    {
     "data": {
      "text/plain": [
       "['NAFLD vs NORM', 'NASH vs NORM']"
      ]
     },
     "execution_count": 10,
     "metadata": {},
     "output_type": "execute_result"
    }
   ],
   "source": [
    "dropdown_item = ['NAFLD vs NORM','NASH vs NORM']\n",
    "dropdown_item"
   ]
  },
  {
   "cell_type": "code",
   "execution_count": 11,
   "id": "5d20127f",
   "metadata": {},
   "outputs": [],
   "source": [
    "# Select dropdown\n",
    "def get_option_list():\n",
    "    dropdown_item = ['NAFLD vs NORM','NASH vs NORM']\n",
    "    return dropdown_item\n",
    "\n",
    "def create_dropdown_list(dd_list):\n",
    "    dropdown_list = []\n",
    "    for item in sorted(dd_list):\n",
    "        tmp_dict = {'label':item,'value':item}\n",
    "        dropdown_list.append(tmp_dict)\n",
    "    return dropdown_list\n",
    "\n",
    "def get_option_dropdown(id):\n",
    "    return html.Div([\n",
    "                        html.Label('Select an Option'),\n",
    "                        dcc.Dropdown(id='my-id'+str(id),\n",
    "                            options=create_dropdown_list(get_option_list()),\n",
    "                            value='NAFLD vs NORM'\n",
    "                        ),\n",
    "                        html.Div(id='my-div'+str(id))\n",
    "                    ])"
   ]
  },
  {
   "cell_type": "code",
   "execution_count": 12,
   "id": "28108a64",
   "metadata": {},
   "outputs": [],
   "source": [
    "def fig_nafld_vs_norm(options='NAFLD vs NORM',window=3):\n",
    "    fig = visuz.gene_exp.volcano(df=df_norm_nafld,lfc='log2FoldChange',pv='pvalue',ar=0,show=True,plotlegend=True,\n",
    "                        legendpos='upper right')\n",
    "    return fig"
   ]
  },
  {
   "cell_type": "code",
   "execution_count": 13,
   "id": "a6ef9b59",
   "metadata": {},
   "outputs": [],
   "source": [
    "def graph1():\n",
    "    return dcc.Graph(id='graph1',figure=fig_nafld_vs_norm('NAFLD vs NORM'))"
   ]
  },
  {
   "cell_type": "code",
   "execution_count": 15,
   "id": "d258eedb",
   "metadata": {},
   "outputs": [],
   "source": [
    "def generate_layout():\n",
    "    page_header = generate_page_header()\n",
    "    layout = dbc.Container(\n",
    "        [\n",
    "            page_header[0],\n",
    "            page_header[1],\n",
    "            dbc.Row(\n",
    "                [\n",
    "                    dbc.Col(get_option_dropdown(id=1),md=dict(size=4,offset=4))                    \n",
    "                ]\n",
    "            \n",
    "            ),\n",
    "            dbc.Row(\n",
    "                [                \n",
    "                    \n",
    "                    dbc.Col(graph1())\n",
    "        \n",
    "                ],\n",
    "                align=\"center\",\n",
    "\n",
    "            )],fluid=True,style={'backgroundColor': colors['bodyColor']}\n",
    "    )\n",
    "    return layout"
   ]
  },
  {
   "cell_type": "code",
   "execution_count": 20,
   "id": "9d5fe455",
   "metadata": {},
   "outputs": [
    {
     "ename": "AssertionError",
     "evalue": "dataframe contains non-numeric values in lfc column",
     "output_type": "error",
     "traceback": [
      "\u001b[0;31m---------------------------------------------------------------------------\u001b[0m",
      "\u001b[0;31mAssertionError\u001b[0m                            Traceback (most recent call last)",
      "\u001b[0;32m<ipython-input-20-1664b0ebc66f>\u001b[0m in \u001b[0;36m<module>\u001b[0;34m\u001b[0m\n\u001b[0;32m----> 1\u001b[0;31m \u001b[0mapp\u001b[0m\u001b[0;34m.\u001b[0m\u001b[0mlayout\u001b[0m \u001b[0;34m=\u001b[0m \u001b[0mgenerate_layout\u001b[0m\u001b[0;34m(\u001b[0m\u001b[0;34m)\u001b[0m\u001b[0;34m\u001b[0m\u001b[0;34m\u001b[0m\u001b[0m\n\u001b[0m",
      "\u001b[0;32m<ipython-input-15-467698a33ab5>\u001b[0m in \u001b[0;36mgenerate_layout\u001b[0;34m()\u001b[0m\n\u001b[1;32m     14\u001b[0m                 [                \n\u001b[1;32m     15\u001b[0m \u001b[0;34m\u001b[0m\u001b[0m\n\u001b[0;32m---> 16\u001b[0;31m                     \u001b[0mdbc\u001b[0m\u001b[0;34m.\u001b[0m\u001b[0mCol\u001b[0m\u001b[0;34m(\u001b[0m\u001b[0mgraph1\u001b[0m\u001b[0;34m(\u001b[0m\u001b[0;34m)\u001b[0m\u001b[0;34m,\u001b[0m\u001b[0mmd\u001b[0m\u001b[0;34m=\u001b[0m\u001b[0mdict\u001b[0m\u001b[0;34m(\u001b[0m\u001b[0msize\u001b[0m\u001b[0;34m=\u001b[0m\u001b[0;36m6\u001b[0m\u001b[0;34m,\u001b[0m\u001b[0moffset\u001b[0m\u001b[0;34m=\u001b[0m\u001b[0;36m3\u001b[0m\u001b[0;34m)\u001b[0m\u001b[0;34m)\u001b[0m\u001b[0;34m\u001b[0m\u001b[0;34m\u001b[0m\u001b[0m\n\u001b[0m\u001b[1;32m     17\u001b[0m \u001b[0;34m\u001b[0m\u001b[0m\n\u001b[1;32m     18\u001b[0m                 ],\n",
      "\u001b[0;32m<ipython-input-13-ace9b27fadbd>\u001b[0m in \u001b[0;36mgraph1\u001b[0;34m()\u001b[0m\n\u001b[1;32m      1\u001b[0m \u001b[0;32mdef\u001b[0m \u001b[0mgraph1\u001b[0m\u001b[0;34m(\u001b[0m\u001b[0;34m)\u001b[0m\u001b[0;34m:\u001b[0m\u001b[0;34m\u001b[0m\u001b[0;34m\u001b[0m\u001b[0m\n\u001b[0;32m----> 2\u001b[0;31m     \u001b[0;32mreturn\u001b[0m \u001b[0mdcc\u001b[0m\u001b[0;34m.\u001b[0m\u001b[0mGraph\u001b[0m\u001b[0;34m(\u001b[0m\u001b[0mid\u001b[0m\u001b[0;34m=\u001b[0m\u001b[0;34m'graph1'\u001b[0m\u001b[0;34m,\u001b[0m\u001b[0mfigure\u001b[0m\u001b[0;34m=\u001b[0m\u001b[0mfig_nafld_vs_norm\u001b[0m\u001b[0;34m(\u001b[0m\u001b[0;34m'NAFLD vs NORM'\u001b[0m\u001b[0;34m)\u001b[0m\u001b[0;34m)\u001b[0m\u001b[0;34m\u001b[0m\u001b[0;34m\u001b[0m\u001b[0m\n\u001b[0m",
      "\u001b[0;32m<ipython-input-12-959d6fce8df2>\u001b[0m in \u001b[0;36mfig_nafld_vs_norm\u001b[0;34m(options, window)\u001b[0m\n\u001b[1;32m      1\u001b[0m \u001b[0;32mdef\u001b[0m \u001b[0mfig_nafld_vs_norm\u001b[0m\u001b[0;34m(\u001b[0m\u001b[0moptions\u001b[0m\u001b[0;34m=\u001b[0m\u001b[0;34m'NAFLD vs NORM'\u001b[0m\u001b[0;34m,\u001b[0m\u001b[0mwindow\u001b[0m\u001b[0;34m=\u001b[0m\u001b[0;36m3\u001b[0m\u001b[0;34m)\u001b[0m\u001b[0;34m:\u001b[0m\u001b[0;34m\u001b[0m\u001b[0;34m\u001b[0m\u001b[0m\n\u001b[0;32m----> 2\u001b[0;31m     fig = visuz.gene_exp.volcano(df=df_norm_nafld,lfc='log2FoldChange',pv='pvalue',ar=0,show=True,plotlegend=True,\n\u001b[0m\u001b[1;32m      3\u001b[0m                         legendpos='upper right')\n\u001b[1;32m      4\u001b[0m     \u001b[0;32mreturn\u001b[0m \u001b[0mfig\u001b[0m\u001b[0;34m\u001b[0m\u001b[0;34m\u001b[0m\u001b[0m\n",
      "\u001b[0;32m/Library/Frameworks/Python.framework/Versions/3.9/lib/python3.9/site-packages/bioinfokit/visuz.py\u001b[0m in \u001b[0;36mvolcano\u001b[0;34m(df, lfc, pv, lfc_thr, pv_thr, color, valpha, geneid, genenames, gfont, dim, r, ar, dotsize, markerdot, sign_line, gstyle, show, figtype, axtickfontsize, axtickfontname, axlabelfontsize, axlabelfontname, axxlabel, axylabel, xlm, ylm, plotlegend, legendpos, figname, legendanchor, legendlabels, theme)\u001b[0m\n\u001b[1;32m    389\u001b[0m         \u001b[0mcolor\u001b[0m \u001b[0;34m=\u001b[0m \u001b[0mcolor\u001b[0m\u001b[0;34m\u001b[0m\u001b[0;34m\u001b[0m\u001b[0m\n\u001b[1;32m    390\u001b[0m         \u001b[0;31m# check if dataframe contains any non-numeric character\u001b[0m\u001b[0;34m\u001b[0m\u001b[0;34m\u001b[0m\u001b[0;34m\u001b[0m\u001b[0m\n\u001b[0;32m--> 391\u001b[0;31m         \u001b[0;32massert\u001b[0m \u001b[0mgeneral\u001b[0m\u001b[0;34m.\u001b[0m\u001b[0mcheck_for_nonnumeric\u001b[0m\u001b[0;34m(\u001b[0m\u001b[0mdf\u001b[0m\u001b[0;34m[\u001b[0m\u001b[0mlfc\u001b[0m\u001b[0;34m]\u001b[0m\u001b[0;34m)\u001b[0m \u001b[0;34m==\u001b[0m \u001b[0;36m0\u001b[0m\u001b[0;34m,\u001b[0m \u001b[0;34m'dataframe contains non-numeric values in lfc column'\u001b[0m\u001b[0;34m\u001b[0m\u001b[0;34m\u001b[0m\u001b[0m\n\u001b[0m\u001b[1;32m    392\u001b[0m         \u001b[0;32massert\u001b[0m \u001b[0mgeneral\u001b[0m\u001b[0;34m.\u001b[0m\u001b[0mcheck_for_nonnumeric\u001b[0m\u001b[0;34m(\u001b[0m\u001b[0mdf\u001b[0m\u001b[0;34m[\u001b[0m\u001b[0mpv\u001b[0m\u001b[0;34m]\u001b[0m\u001b[0;34m)\u001b[0m \u001b[0;34m==\u001b[0m \u001b[0;36m0\u001b[0m\u001b[0;34m,\u001b[0m \u001b[0;34m'dataframe contains non-numeric values in pv column'\u001b[0m\u001b[0;34m\u001b[0m\u001b[0;34m\u001b[0m\u001b[0m\n\u001b[1;32m    393\u001b[0m         \u001b[0;31m# this is important to check if color or logpv exists and drop them as if you run multiple times same command\u001b[0m\u001b[0;34m\u001b[0m\u001b[0;34m\u001b[0m\u001b[0;34m\u001b[0m\u001b[0m\n",
      "\u001b[0;31mAssertionError\u001b[0m: dataframe contains non-numeric values in lfc column"
     ]
    }
   ],
   "source": [
    "app.layout = generate_layout()"
   ]
  },
  {
   "cell_type": "code",
   "execution_count": null,
   "id": "e575d4c8",
   "metadata": {},
   "outputs": [
    {
     "name": "stdout",
     "output_type": "stream",
     "text": [
      "Dash is running on http://0.0.0.0:8050/\n",
      "\n",
      " * Serving Flask app \"__main__\" (lazy loading)\n",
      " * Environment: production\n",
      "\u001b[31m   WARNING: This is a development server. Do not use it in a production deployment.\u001b[0m\n",
      "\u001b[2m   Use a production WSGI server instead.\u001b[0m\n",
      " * Debug mode: off\n"
     ]
    },
    {
     "name": "stderr",
     "output_type": "stream",
     "text": [
      " * Running on http://0.0.0.0:8050/ (Press CTRL+C to quit)\n",
      "127.0.0.1 - - [04/May/2021 18:32:38] \"\u001b[37mGET / HTTP/1.1\u001b[0m\" 200 -\n",
      "127.0.0.1 - - [04/May/2021 18:32:38] \"\u001b[37mGET /_dash-layout HTTP/1.1\u001b[0m\" 200 -\n",
      "127.0.0.1 - - [04/May/2021 18:32:38] \"\u001b[37mGET /_dash-dependencies HTTP/1.1\u001b[0m\" 200 -\n",
      "127.0.0.1 - - [04/May/2021 18:46:56] \"\u001b[37mGET / HTTP/1.1\u001b[0m\" 200 -\n",
      "127.0.0.1 - - [04/May/2021 18:46:56] \"\u001b[37mGET /_dash-layout HTTP/1.1\u001b[0m\" 200 -\n",
      "127.0.0.1 - - [04/May/2021 18:46:56] \"\u001b[37mGET /_dash-dependencies HTTP/1.1\u001b[0m\" 200 -\n"
     ]
    }
   ],
   "source": [
    "app.run_server(host= '0.0.0.0',debug=False)"
   ]
  },
  {
   "cell_type": "code",
   "execution_count": null,
   "id": "c538151f",
   "metadata": {},
   "outputs": [],
   "source": []
  }
 ],
 "metadata": {
  "kernelspec": {
   "display_name": "Python 3",
   "language": "python",
   "name": "python3"
  },
  "language_info": {
   "codemirror_mode": {
    "name": "ipython",
    "version": 3
   },
   "file_extension": ".py",
   "mimetype": "text/x-python",
   "name": "python",
   "nbconvert_exporter": "python",
   "pygments_lexer": "ipython3",
   "version": "3.9.2"
  }
 },
 "nbformat": 4,
 "nbformat_minor": 5
}
