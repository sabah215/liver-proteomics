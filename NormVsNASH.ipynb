{
 "cells": [
  {
   "cell_type": "code",
   "execution_count": 9,
   "id": "7f134ddb",
   "metadata": {},
   "outputs": [
    {
     "name": "stdout",
     "output_type": "stream",
     "text": [
      "Requirement already satisfied: bioinfokit in /Users/sabah/Documents/Projects/Environments/livPro_env/lib/python3.9/site-packages (2.0.3)\n",
      "Requirement already satisfied: adjustText in /Users/sabah/Documents/Projects/Environments/livPro_env/lib/python3.9/site-packages (from bioinfokit) (0.7.3)\n",
      "Requirement already satisfied: numpy in /Users/sabah/Documents/Projects/Environments/livPro_env/lib/python3.9/site-packages (from bioinfokit) (1.20.2)\n",
      "Requirement already satisfied: pandas in /Users/sabah/Documents/Projects/Environments/livPro_env/lib/python3.9/site-packages (from bioinfokit) (1.2.4)\n",
      "Requirement already satisfied: tabulate in /Users/sabah/Documents/Projects/Environments/livPro_env/lib/python3.9/site-packages (from bioinfokit) (0.8.9)\n",
      "Requirement already satisfied: statsmodels in /Users/sabah/Documents/Projects/Environments/livPro_env/lib/python3.9/site-packages (from bioinfokit) (0.12.2)\n",
      "Requirement already satisfied: matplotlib-venn in /Users/sabah/Documents/Projects/Environments/livPro_env/lib/python3.9/site-packages (from bioinfokit) (0.11.6)\n",
      "Requirement already satisfied: scipy in /Users/sabah/Documents/Projects/Environments/livPro_env/lib/python3.9/site-packages (from bioinfokit) (1.6.3)\n",
      "Requirement already satisfied: matplotlib in /Users/sabah/Documents/Projects/Environments/livPro_env/lib/python3.9/site-packages (from bioinfokit) (3.4.1)\n",
      "Requirement already satisfied: textwrap3 in /Users/sabah/Documents/Projects/Environments/livPro_env/lib/python3.9/site-packages (from bioinfokit) (0.9.2)\n",
      "Requirement already satisfied: scikit-learn in /Users/sabah/Documents/Projects/Environments/livPro_env/lib/python3.9/site-packages (from bioinfokit) (0.24.2)\n",
      "Requirement already satisfied: seaborn in /Users/sabah/Documents/Projects/Environments/livPro_env/lib/python3.9/site-packages (from bioinfokit) (0.11.1)\n",
      "Requirement already satisfied: cycler>=0.10 in /Users/sabah/Documents/Projects/Environments/livPro_env/lib/python3.9/site-packages (from matplotlib->bioinfokit) (0.10.0)\n",
      "Requirement already satisfied: kiwisolver>=1.0.1 in /Users/sabah/Documents/Projects/Environments/livPro_env/lib/python3.9/site-packages (from matplotlib->bioinfokit) (1.3.1)\n",
      "Requirement already satisfied: pyparsing>=2.2.1 in /Users/sabah/Documents/Projects/Environments/livPro_env/lib/python3.9/site-packages (from matplotlib->bioinfokit) (2.4.7)\n",
      "Requirement already satisfied: pillow>=6.2.0 in /Users/sabah/Documents/Projects/Environments/livPro_env/lib/python3.9/site-packages (from matplotlib->bioinfokit) (8.2.0)\n",
      "Requirement already satisfied: python-dateutil>=2.7 in /Users/sabah/Documents/Projects/Environments/livPro_env/lib/python3.9/site-packages (from matplotlib->bioinfokit) (2.8.1)\n",
      "Requirement already satisfied: six in /Users/sabah/Documents/Projects/Environments/livPro_env/lib/python3.9/site-packages (from cycler>=0.10->matplotlib->bioinfokit) (1.15.0)\n",
      "Requirement already satisfied: pytz>=2017.3 in /Users/sabah/Documents/Projects/Environments/livPro_env/lib/python3.9/site-packages (from pandas->bioinfokit) (2021.1)\n",
      "Requirement already satisfied: joblib>=0.11 in /Users/sabah/Documents/Projects/Environments/livPro_env/lib/python3.9/site-packages (from scikit-learn->bioinfokit) (1.0.1)\n",
      "Requirement already satisfied: threadpoolctl>=2.0.0 in /Users/sabah/Documents/Projects/Environments/livPro_env/lib/python3.9/site-packages (from scikit-learn->bioinfokit) (2.1.0)\n",
      "Requirement already satisfied: patsy>=0.5 in /Users/sabah/Documents/Projects/Environments/livPro_env/lib/python3.9/site-packages (from statsmodels->bioinfokit) (0.5.1)\n",
      "\u001b[33mWARNING: You are using pip version 21.0.1; however, version 21.1.1 is available.\n",
      "You should consider upgrading via the '/Users/sabah/Documents/Projects/Environments/livPro_env/bin/python -m pip install --upgrade pip' command.\u001b[0m\n"
     ]
    }
   ],
   "source": [
    "!pip install bioinfokit"
   ]
  },
  {
   "cell_type": "code",
   "execution_count": 11,
   "id": "bab2b589",
   "metadata": {},
   "outputs": [],
   "source": [
    "import pandas as pd\n",
    "from bioinfokit import analys, visuz"
   ]
  },
  {
   "cell_type": "code",
   "execution_count": 16,
   "id": "7b199036",
   "metadata": {},
   "outputs": [],
   "source": [
    "df = pd.read_csv('~/Desktop/data/Liver_Homegenate_per_mg_protein_Log2FC_Normal_NASH.csv')"
   ]
  },
  {
   "cell_type": "code",
   "execution_count": 17,
   "id": "533fccca",
   "metadata": {},
   "outputs": [
    {
     "data": {
      "text/html": [
       "<div>\n",
       "<style scoped>\n",
       "    .dataframe tbody tr th:only-of-type {\n",
       "        vertical-align: middle;\n",
       "    }\n",
       "\n",
       "    .dataframe tbody tr th {\n",
       "        vertical-align: top;\n",
       "    }\n",
       "\n",
       "    .dataframe thead th {\n",
       "        text-align: right;\n",
       "    }\n",
       "</style>\n",
       "<table border=\"1\" class=\"dataframe\">\n",
       "  <thead>\n",
       "    <tr style=\"text-align: right;\">\n",
       "      <th></th>\n",
       "      <th>gene_symbol</th>\n",
       "      <th>log2FoldChange</th>\n",
       "      <th>pvalue</th>\n",
       "    </tr>\n",
       "  </thead>\n",
       "  <tbody>\n",
       "    <tr>\n",
       "      <th>0</th>\n",
       "      <td>IGLV7-46</td>\n",
       "      <td>NaN</td>\n",
       "      <td>NaN</td>\n",
       "    </tr>\n",
       "    <tr>\n",
       "      <th>1</th>\n",
       "      <td>IGLV3-10</td>\n",
       "      <td>NaN</td>\n",
       "      <td>NaN</td>\n",
       "    </tr>\n",
       "    <tr>\n",
       "      <th>2</th>\n",
       "      <td>IGLV3-9</td>\n",
       "      <td>NaN</td>\n",
       "      <td>NaN</td>\n",
       "    </tr>\n",
       "    <tr>\n",
       "      <th>3</th>\n",
       "      <td>IGKV2-28</td>\n",
       "      <td>-0.139655</td>\n",
       "      <td>0.621316</td>\n",
       "    </tr>\n",
       "    <tr>\n",
       "      <th>4</th>\n",
       "      <td>IGKV1-27</td>\n",
       "      <td>NaN</td>\n",
       "      <td>NaN</td>\n",
       "    </tr>\n",
       "    <tr>\n",
       "      <th>...</th>\n",
       "      <td>...</td>\n",
       "      <td>...</td>\n",
       "      <td>...</td>\n",
       "    </tr>\n",
       "    <tr>\n",
       "      <th>3846</th>\n",
       "      <td>SQOR</td>\n",
       "      <td>0.226007</td>\n",
       "      <td>0.110855</td>\n",
       "    </tr>\n",
       "    <tr>\n",
       "      <th>3847</th>\n",
       "      <td>PCLO</td>\n",
       "      <td>0.032456</td>\n",
       "      <td>0.630887</td>\n",
       "    </tr>\n",
       "    <tr>\n",
       "      <th>3848</th>\n",
       "      <td>WASF2</td>\n",
       "      <td>0.098010</td>\n",
       "      <td>0.314845</td>\n",
       "    </tr>\n",
       "    <tr>\n",
       "      <th>3849</th>\n",
       "      <td>ENPP4</td>\n",
       "      <td>-0.004451</td>\n",
       "      <td>0.964452</td>\n",
       "    </tr>\n",
       "    <tr>\n",
       "      <th>3850</th>\n",
       "      <td>SEC23IP</td>\n",
       "      <td>0.063846</td>\n",
       "      <td>0.314332</td>\n",
       "    </tr>\n",
       "  </tbody>\n",
       "</table>\n",
       "<p>3851 rows × 3 columns</p>\n",
       "</div>"
      ],
      "text/plain": [
       "     gene_symbol  log2FoldChange    pvalue\n",
       "0       IGLV7-46             NaN       NaN\n",
       "1       IGLV3-10             NaN       NaN\n",
       "2        IGLV3-9             NaN       NaN\n",
       "3       IGKV2-28       -0.139655  0.621316\n",
       "4       IGKV1-27             NaN       NaN\n",
       "...          ...             ...       ...\n",
       "3846        SQOR        0.226007  0.110855\n",
       "3847        PCLO        0.032456  0.630887\n",
       "3848       WASF2        0.098010  0.314845\n",
       "3849       ENPP4       -0.004451  0.964452\n",
       "3850     SEC23IP        0.063846  0.314332\n",
       "\n",
       "[3851 rows x 3 columns]"
      ]
     },
     "execution_count": 17,
     "metadata": {},
     "output_type": "execute_result"
    }
   ],
   "source": [
    "df"
   ]
  },
  {
   "cell_type": "code",
   "execution_count": 19,
   "id": "d076399e",
   "metadata": {},
   "outputs": [],
   "source": [
    "df.dropna(inplace=True)"
   ]
  },
  {
   "cell_type": "code",
   "execution_count": 20,
   "id": "037ef679",
   "metadata": {},
   "outputs": [
    {
     "data": {
      "text/html": [
       "<div>\n",
       "<style scoped>\n",
       "    .dataframe tbody tr th:only-of-type {\n",
       "        vertical-align: middle;\n",
       "    }\n",
       "\n",
       "    .dataframe tbody tr th {\n",
       "        vertical-align: top;\n",
       "    }\n",
       "\n",
       "    .dataframe thead th {\n",
       "        text-align: right;\n",
       "    }\n",
       "</style>\n",
       "<table border=\"1\" class=\"dataframe\">\n",
       "  <thead>\n",
       "    <tr style=\"text-align: right;\">\n",
       "      <th></th>\n",
       "      <th>gene_symbol</th>\n",
       "      <th>log2FoldChange</th>\n",
       "      <th>pvalue</th>\n",
       "    </tr>\n",
       "  </thead>\n",
       "  <tbody>\n",
       "    <tr>\n",
       "      <th>3</th>\n",
       "      <td>IGKV2-28</td>\n",
       "      <td>-0.139655</td>\n",
       "      <td>0.621316</td>\n",
       "    </tr>\n",
       "    <tr>\n",
       "      <th>5</th>\n",
       "      <td>IGKV3D-11</td>\n",
       "      <td>-0.246582</td>\n",
       "      <td>0.418937</td>\n",
       "    </tr>\n",
       "    <tr>\n",
       "      <th>6</th>\n",
       "      <td>IGHV3-15</td>\n",
       "      <td>-0.205605</td>\n",
       "      <td>0.228957</td>\n",
       "    </tr>\n",
       "    <tr>\n",
       "      <th>9</th>\n",
       "      <td>PIGBOS1</td>\n",
       "      <td>0.180151</td>\n",
       "      <td>0.115027</td>\n",
       "    </tr>\n",
       "    <tr>\n",
       "      <th>11</th>\n",
       "      <td>IGHV4-28</td>\n",
       "      <td>0.032343</td>\n",
       "      <td>0.933662</td>\n",
       "    </tr>\n",
       "    <tr>\n",
       "      <th>...</th>\n",
       "      <td>...</td>\n",
       "      <td>...</td>\n",
       "      <td>...</td>\n",
       "    </tr>\n",
       "    <tr>\n",
       "      <th>3846</th>\n",
       "      <td>SQOR</td>\n",
       "      <td>0.226007</td>\n",
       "      <td>0.110855</td>\n",
       "    </tr>\n",
       "    <tr>\n",
       "      <th>3847</th>\n",
       "      <td>PCLO</td>\n",
       "      <td>0.032456</td>\n",
       "      <td>0.630887</td>\n",
       "    </tr>\n",
       "    <tr>\n",
       "      <th>3848</th>\n",
       "      <td>WASF2</td>\n",
       "      <td>0.098010</td>\n",
       "      <td>0.314845</td>\n",
       "    </tr>\n",
       "    <tr>\n",
       "      <th>3849</th>\n",
       "      <td>ENPP4</td>\n",
       "      <td>-0.004451</td>\n",
       "      <td>0.964452</td>\n",
       "    </tr>\n",
       "    <tr>\n",
       "      <th>3850</th>\n",
       "      <td>SEC23IP</td>\n",
       "      <td>0.063846</td>\n",
       "      <td>0.314332</td>\n",
       "    </tr>\n",
       "  </tbody>\n",
       "</table>\n",
       "<p>3655 rows × 3 columns</p>\n",
       "</div>"
      ],
      "text/plain": [
       "     gene_symbol  log2FoldChange    pvalue\n",
       "3       IGKV2-28       -0.139655  0.621316\n",
       "5      IGKV3D-11       -0.246582  0.418937\n",
       "6       IGHV3-15       -0.205605  0.228957\n",
       "9        PIGBOS1        0.180151  0.115027\n",
       "11      IGHV4-28        0.032343  0.933662\n",
       "...          ...             ...       ...\n",
       "3846        SQOR        0.226007  0.110855\n",
       "3847        PCLO        0.032456  0.630887\n",
       "3848       WASF2        0.098010  0.314845\n",
       "3849       ENPP4       -0.004451  0.964452\n",
       "3850     SEC23IP        0.063846  0.314332\n",
       "\n",
       "[3655 rows x 3 columns]"
      ]
     },
     "execution_count": 20,
     "metadata": {},
     "output_type": "execute_result"
    }
   ],
   "source": [
    "df"
   ]
  },
  {
   "cell_type": "code",
   "execution_count": 22,
   "id": "fa8f852a",
   "metadata": {},
   "outputs": [
    {
     "data": {
      "image/png": "[encoded data removed]",
      "text/plain": [
       "<Figure size 360x360 with 1 Axes>"
      ]
     },
     "metadata": {
      "needs_background": "light"
     },
     "output_type": "display_data"
    }
   ],
   "source": [
    "visuz.gene_exp.volcano(df=df, lfc='log2FoldChange', pv='pvalue', ar=0, show=True, plotlegend=True, legendpos='upper right')"
   ]
  },
  {
   "cell_type": "code",
   "execution_count": null,
   "id": "8897aed1",
   "metadata": {},
   "outputs": [],
   "source": []
  }
 ],
 "metadata": {
  "kernelspec": {
   "display_name": "Python 3",
   "language": "python",
   "name": "python3"
  },
  "language_info": {
   "codemirror_mode": {
    "name": "ipython",
    "version": 3
   },
   "file_extension": ".py",
   "mimetype": "text/x-python",
   "name": "python",
   "nbconvert_exporter": "python",
   "pygments_lexer": "ipython3",
   "version": "3.9.2"
  }
 },
 "nbformat": 4,
 "nbformat_minor": 5
}
